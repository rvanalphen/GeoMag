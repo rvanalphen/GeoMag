{
 "cells": [
  {
   "cell_type": "markdown",
   "metadata": {},
   "source": [
    "## Forward modeling"
   ]
  },
  {
   "cell_type": "markdown",
   "metadata": {},
   "source": [
    "### Model Hyperparameters\n",
    "\n",
    "These are the parameters needed to create a PloufModel class\n",
    "\n",
    "    -LINE: The Dataframe of the line to be modeled \n",
    "    -SHAPES: The Dataframe of the shape to use for modeling\n",
    "    -TOPS: the top bounds in meters of the shape\n",
    "    -BOTTOM: the bottom bound in meters of the shape\n",
    "    -INC: the paleoinclination from the surveyed location\n",
    "    -DEC: the paleodeclination from the surveyed location\n",
    "    -INT: the magnetic intensity for the model\n"
   ]
  },
  {
   "cell_type": "code",
   "execution_count": null,
   "metadata": {},
   "outputs": [
    {
     "ename": "",
     "evalue": "",
     "output_type": "error",
     "traceback": [
      "\u001b[1;31mRunning cells with 'Python 3.8.10 64-bit' requires ipykernel package.\n",
      "\u001b[1;31mRun the following command to install 'ipykernel' into the Python environment. \n",
      "\u001b[1;31mCommand: '/bin/python3 -m pip install ipykernel -U --user --force-reinstall'"
     ]
    }
   ],
   "source": [
    "from source.load_data import path_to_df # this function finds if a file has a header and what the delimeter is\n",
    "from pathlib import Path # Path library imported to handle data importation\n",
    "\n",
    "SHAPE_DIR = './shapes' # directory where the shapefile is stored for modeling\n",
    "SHAPE = path_to_df(Path(f'{SHAPE_DIR}/line_56a_shape2.utm'),raw=False) \n",
    "TOPS = 40\n",
    "BOTTOM= 51\n",
    "INC= -67\n",
    "DEC= 177\n",
    "INT= 0.5\n",
    "LINE = app3.lines['line 1'] # line to be modeled "
   ]
  },
  {
   "cell_type": "code",
   "execution_count": null,
   "metadata": {},
   "outputs": [],
   "source": []
  }
 ],
 "metadata": {
  "kernelspec": {
   "display_name": "Python 3.8.10 64-bit",
   "language": "python",
   "name": "python3"
  },
  "language_info": {
   "name": "python",
   "version": "3.8.10"
  },
  "orig_nbformat": 4,
  "vscode": {
   "interpreter": {
    "hash": "916dbcbb3f70747c44a77c7bcd40155683ae19c65e1c03b4aa3499c5328201f1"
   }
  }
 },
 "nbformat": 4,
 "nbformat_minor": 2
}
